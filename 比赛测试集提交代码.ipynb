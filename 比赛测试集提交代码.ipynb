{
 "cells": [
  {
   "cell_type": "markdown",
   "metadata": {},
   "source": [
    "引用： https://www.kesci.com/home/competition/forum/5dbd1bff2ada7a00155d112e"
   ]
  },
  {
   "cell_type": "code",
   "execution_count": 1,
   "metadata": {},
   "outputs": [
    {
     "ename": "ModuleNotFoundError",
     "evalue": "No module named 'dataset'",
     "output_type": "error",
     "traceback": [
      "\u001b[1;31m---------------------------------------------------------------------------\u001b[0m",
      "\u001b[1;31mModuleNotFoundError\u001b[0m                       Traceback (most recent call last)",
      "\u001b[1;32m<ipython-input-1-73aeee303077>\u001b[0m in \u001b[0;36m<module>\u001b[1;34m\u001b[0m\n\u001b[1;32m----> 1\u001b[1;33m \u001b[1;32mfrom\u001b[0m \u001b[0mdataset\u001b[0m\u001b[1;33m.\u001b[0m\u001b[0mdata\u001b[0m \u001b[1;32mimport\u001b[0m \u001b[0mread_image\u001b[0m  \u001b[1;31m# 图片读取方法，可以自己写，我是用的baseline里自带的\u001b[0m\u001b[1;33m\u001b[0m\u001b[0m\n\u001b[0m\u001b[0;32m      2\u001b[0m \u001b[1;32mimport\u001b[0m \u001b[0mos\u001b[0m\u001b[1;33m\u001b[0m\u001b[0m\n\u001b[0;32m      3\u001b[0m \u001b[1;32mimport\u001b[0m \u001b[0mtorch\u001b[0m\u001b[1;33m\u001b[0m\u001b[0m\n\u001b[0;32m      4\u001b[0m \u001b[1;32mimport\u001b[0m \u001b[0mnumpy\u001b[0m \u001b[1;32mas\u001b[0m \u001b[0mnp\u001b[0m\u001b[1;33m\u001b[0m\u001b[0m\n\u001b[0;32m      5\u001b[0m \u001b[1;32mimport\u001b[0m \u001b[0mjson\u001b[0m\u001b[1;33m\u001b[0m\u001b[0m\n",
      "\u001b[1;31mModuleNotFoundError\u001b[0m: No module named 'dataset'"
     ]
    }
   ],
   "source": [
    "from dataset.data import read_image  # 图片读取方法，可以自己写，我是用的baseline里自带的\n",
    "import os\n",
    "import torch\n",
    "import numpy as np\n",
    "import json\n",
    "from evaluate import eval_func, euclidean_dist, re_rank #  计算距离以及rerank，均是来自baseline\n",
    "\n",
    "os.environ['CUDA_VISIBLE_DEVICES'] = '0, 1' # 指定gpu\n",
    "device = torch.device(\"cuda\" if torch.cuda.is_available() else \"cpu\")\n",
    "\n",
    "\n",
    "\n",
    "def inference_samples(model, transform, batch_size): # 传入模型，数据预处理方法，batch_size\n",
    "    query_list = list()\n",
    "    with open(r'初赛A榜测试集/query_a_list.txt', 'r') as f:\n",
    "                # 测试集中txt文件\n",
    "        lines = f.readlines()\n",
    "        for i, line in enumerate(lines):\n",
    "            data = line.split(\" \")\n",
    "            image_name = data[0].split(\"/\")[1]\n",
    "            img_file = os.path.join(r'初赛A榜测试集\\query_a', image_name)  # 测试集query文件夹\n",
    "            query_list.append(img_file)\n",
    "\n",
    "    gallery_list = [os.path.join(r'初赛A榜测试集\\gallery_a', x) for x in # 测试集gallery文件夹\n",
    "                    os.listdir(r'初赛A榜测试集\\gallery_a')]\n",
    "    query_num = len(query_list)\n",
    "    img_list = list()\n",
    "    for q_img in query_list:\n",
    "        q_img = read_image(q_img)\n",
    "        q_img = transform(q_img)\n",
    "        img_list.append(q_img)\n",
    "    for g_img in gallery_list:\n",
    "        g_img = read_image(g_img)\n",
    "        g_img = transform(g_img)\n",
    "        img_list.append(g_img)\n",
    "    img_data = torch.Tensor([t.numpy() for t in img_list])\n",
    "    model = model.to(device)\n",
    "    model.eval()\n",
    "    iter_n = len(img_list) // batch_size\n",
    "    if len(img_list) % batch_size != 0:\n",
    "        iter_n += 1\n",
    "    all_feature = list()\n",
    "    for i in range(iter_n):\n",
    "        print(\"batch ----%d----\" % (i))\n",
    "        batch_data = img_data[i*batch_size:(i+1)*batch_size]\n",
    "        with torch.no_grad():\n",
    "            batch_feature = model(batch_data).detach().cpu()\n",
    "            all_feature.append(batch_feature)\n",
    "    all_feature = torch.cat(all_feature)\n",
    "    gallery_feat = all_feature[query_num:]\n",
    "    query_feat = all_feature[:query_num]\n",
    "\n",
    "    distmat = re_rank(query_feat, gallery_feat) # rerank方法\n",
    "    distmat = distmat # 如果使用 euclidean_dist，不使用rerank改为：distamt = distamt.numpy()\n",
    "    num_q, num_g = distmat.shape\n",
    "    indices = np.argsort(distmat, axis=1)\n",
    "    max_200_indices = indices[:, :200]\n",
    "\n",
    "    res_dict = dict()\n",
    "    for q_idx in range(num_q):\n",
    "        print(query_list[q_idx])\n",
    "        filename = query_list[q_idx][query_list[q_idx].rindex(\"\\\\\")+1:]\n",
    "        max_200_files = [gallery_list[i][gallery_list[i].rindex(\"\\\\\")+1:] for i in max_200_indices[q_idx]]\n",
    "        res_dict[filename] = max_200_files\n",
    "\n",
    "    with open(r'submission_A.json', 'w' ,encoding='utf-8') as f: # 提交文件\n",
    "        json.dump(res_dict, f)"
   ]
  },
  {
   "cell_type": "code",
   "execution_count": null,
   "metadata": {},
   "outputs": [],
   "source": []
  }
 ],
 "metadata": {
  "kernelspec": {
   "display_name": "Python 3",
   "language": "python",
   "name": "python3"
  },
  "language_info": {
   "codemirror_mode": {
    "name": "ipython",
    "version": 3
   },
   "file_extension": ".py",
   "mimetype": "text/x-python",
   "name": "python",
   "nbconvert_exporter": "python",
   "pygments_lexer": "ipython3",
   "version": "3.6.4"
  }
 },
 "nbformat": 4,
 "nbformat_minor": 4
}
