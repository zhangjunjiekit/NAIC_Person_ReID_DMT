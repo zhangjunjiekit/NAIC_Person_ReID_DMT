{
 "cells": [
  {
   "cell_type": "code",
   "execution_count": 1,
   "metadata": {},
   "outputs": [],
   "source": [
    "%matplotlib inline\n",
    "import os\n",
    "import matplotlib.pyplot as plt\n",
    "import shutil"
   ]
  },
  {
   "cell_type": "code",
   "execution_count": 2,
   "metadata": {},
   "outputs": [],
   "source": [
    "label_path = './data/label.txt'"
   ]
  },
  {
   "cell_type": "code",
   "execution_count": 3,
   "metadata": {},
   "outputs": [],
   "source": [
    "f = open(label_path)\n",
    "statistics_inf={}\n",
    "pre_label='-1'\n",
    "num = 1\n",
    "ID_number={}\n",
    "for line in f.readlines():\n",
    "    img_name,label = line[:-1].split(\":\")\n",
    "    if label == pre_label:\n",
    "        num+=1\n",
    "       \n",
    "    else:\n",
    "        if not num in statistics_inf:\n",
    "            statistics_inf[num]=1\n",
    "        else:\n",
    "            statistics_inf[num]+=1\n",
    "        ID_number[pre_label] = num\n",
    "        num=1\n",
    "    pre_label = label\n",
    "del ID_number['-1']"
   ]
  },
  {
   "cell_type": "code",
   "execution_count": 4,
   "metadata": {},
   "outputs": [],
   "source": [
    "sorted_inf = sorted(statistics_inf.items(), key = lambda kv:(kv[1], kv[0]),reverse=True)"
   ]
  },
  {
   "cell_type": "code",
   "execution_count": 5,
   "metadata": {},
   "outputs": [],
   "source": [
    "statistics_inf={}\n",
    "num_threshold=100\n",
    "counter = 0\n",
    "for (label_num,num) in sorted_inf:\n",
    "    if num>num_threshold:\n",
    "        statistics_inf[str(label_num)]=num\n",
    "    else:\n",
    "        counter+=num\n",
    "statistics_inf['>100']=counter"
   ]
  },
  {
   "cell_type": "code",
   "execution_count": 6,
   "metadata": {
    "scrolled": true
   },
   "outputs": [
    {
     "data": {
      "text/plain": [
       "dict_values([10837, 4152, 2261, 1349, 495, 277, 101, 186])"
      ]
     },
     "execution_count": 6,
     "metadata": {},
     "output_type": "execute_result"
    }
   ],
   "source": [
    "statistics_inf.values()"
   ]
  },
  {
   "cell_type": "code",
   "execution_count": 7,
   "metadata": {},
   "outputs": [
    {
     "data": {
      "image/png": "[encoded data removed]",
      "text/plain": [
       "<Figure size 720x360 with 1 Axes>"
      ]
     },
     "metadata": {
      "needs_background": "light"
     },
     "output_type": "display_data"
    }
   ],
   "source": [
    "plt.figure(figsize=(10, 5)) \n",
    "x = range(len(statistics_inf))\n",
    "y = statistics_inf.values()\n",
    "name = statistics_inf.keys()\n",
    "plt.bar(x,height=y)\n",
    "plt.xticks(x,name)\n",
    "plt.xlabel('number with same ID')\n",
    "plt.ylabel('number')\n",
    "plt.title('statistics inf')\n",
    "\n",
    "for a, b, label in zip(x, y, y):\n",
    "    plt.text(a, b, label, ha='center', va='bottom')"
   ]
  },
  {
   "cell_type": "code",
   "execution_count": 8,
   "metadata": {},
   "outputs": [],
   "source": [
    "dataset_label_path = './data/label.txt'\n",
    "dataset_img_path = './data/images'\n",
    "\n",
    "train_list_path = './data/train/label.txt'\n",
    "train_img_path =  './data/train/images'\n",
    "test_list_path = './data/val/label.txt'\n",
    "test_img_path =  './data/val/images'\n",
    "\n",
    "\n",
    "if not os.path.exists(train_img_path):\n",
    "    os.makedirs(train_img_path)\n",
    "if not os.path.exists(test_img_path):\n",
    "    os.makedirs(test_img_path)"
   ]
  },
  {
   "cell_type": "code",
   "execution_count": 9,
   "metadata": {},
   "outputs": [],
   "source": [
    "dataset_file =  open(dataset_label_path, 'r')\n",
    "train_file = open(train_list_path, 'w')\n",
    "test_file = open(test_list_path, 'w')\n",
    "number_test_ID = 2000\n",
    "test_ID = list(ID_number.keys())[:number_test_ID]\n",
    "counter = 0\n",
    "for line in dataset_file.readlines():\n",
    "    img_name,ID = line[:-1].split(\":\")\n",
    "    source = os.path.join(dataset_img_path,img_name)\n",
    "    if ID in test_ID:\n",
    "        test_file.write(line)\n",
    "        target = os.path.join(test_img_path,img_name)\n",
    "    else:\n",
    "        train_file.write(line)\n",
    "        target = os.path.join(train_img_path,img_name)\n",
    "    shutil.copy(source, target)\n",
    "train_file.close()\n",
    "test_file.close()"
   ]
  }
 ],
 "metadata": {
  "kernelspec": {
   "display_name": "Python 3",
   "language": "python",
   "name": "python3"
  },
  "language_info": {
   "codemirror_mode": {
    "name": "ipython",
    "version": 3
   },
   "file_extension": ".py",
   "mimetype": "text/x-python",
   "name": "python",
   "nbconvert_exporter": "python",
   "pygments_lexer": "ipython3",
   "version": "3.6.4"
  }
 },
 "nbformat": 4,
 "nbformat_minor": 4
}
